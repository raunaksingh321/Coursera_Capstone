{
 "cells": [
  {
   "cell_type": "markdown",
   "metadata": {},
   "source": [
    "# The battle of Neighborhoods"
   ]
  },
  {
   "cell_type": "markdown",
   "metadata": {},
   "source": [
    "## Week 4 : Part a) -"
   ]
  },
  {
   "cell_type": "markdown",
   "metadata": {},
   "source": [
    "## Title : Eatery recommender framework in Bangalore"
   ]
  },
  {
   "cell_type": "markdown",
   "metadata": {},
   "source": [
    "### Problem background : \n",
    "Problem background: \n",
    "Bangalore is the capital and largest city of the Indian state of Karnataka. With a population of over 15 million (as of January 2016), Bangalore is the third largest city in India and 27th largest city in the world. \n",
    "\n",
    "The variety of the food accessible is intelligent of the social and financial variety of Bangalore. Side of the road merchants, tea slows down, South Indian, North Indian, Muslim food, Chinese and Western cheap food are generally mainstream around there. Udupi eateries, are extremely famous and serve transcendently vegan food. The Chinese food and the Thai food served in a large portion of the cafés are can be modified to take into account the inclinations of the Indian populace. Bangalore can likewise be known as a foodie's heaven on account of its huge assortment of food sources and edibles with a dash of Bangalore's uniqueness and custom."
   ]
  },
  {
   "cell_type": "markdown",
   "metadata": {},
   "source": [
    "### Problem description :"
   ]
  },
  {
   "cell_type": "markdown",
   "metadata": {},
   "source": [
    "Assume I travel and continue to change puts habitually. This is exceptionally chaotic and in addition to I will encounter altogether different sorts of climate, of which I don't have a lot of information about. In such circumstance, food can be a significant factor for chose how you rate your excursions and in addition to likewise prescribing it to individuals. Food can likewise draw in individuals around to world to give it a shot if it somehow managed to be the awesome. In such situations, we need to track down the correct spot, at sensible expense, to serve us the most ideal way. So there are not many inquiries that should be tended to, for example,\n",
    "\n",
    "1. How many types of foods are available in the restaurant ? \n",
    "2. which is the most nearest to me with good rating ?\n",
    "3. How many \"similar\" restaurants are available near by me ?\n",
    "4. Do the \"similar\" restaurants cost more ? if so, what speciality do that have ?\n",
    "\n",
    "To resolve such inquiry, ABCD Company's director chooses to assign this task to me not simply to discover answers for the inquiries yet in addition construct a framework that can help in suggesting new places dependent on their rankings contrasted with the recently visited by me..\n",
    "\n",
    "Expectations from this recommender system is to get answer for the questions, and in such a way that it uncovers all the perspective of managing recommendations. It is sighted to show: \n",
    "\n",
    "\n",
    "1. What types of restaurants are present in a paeticular area ?\n",
    "2. where are the similar restaurant present based on a preference to particular food ?\n",
    "3. How do different restaurants rank with respect to my preferences ?\n"
   ]
  },
  {
   "cell_type": "markdown",
   "metadata": {},
   "source": [
    "### Target audience :"
   ]
  },
  {
   "cell_type": "markdown",
   "metadata": {},
   "source": [
    "Target crowds for this undertaking doesn't restrict to an individual who continues to travel yet everybody. Individuals could essentially choose to search for a comparable café all the time since they are dependent on a particular class of food. Individuals who once in a while use eateries would like to have the most appraised cafés close by them and this could be handily taken care of by our recommender framework. So focus for this undertaking is essentially every individual who is investigating better places or comparative spots."
   ]
  },
  {
   "cell_type": "markdown",
   "metadata": {},
   "source": [
    "### Success rate :"
   ]
  },
  {
   "cell_type": "markdown",
   "metadata": {},
   "source": [
    "With eateries developing, new food classifications arise, cross breed food begins to be more mainstream, we need a framework that could help us access tremendous number of food assortments. It is outlandish for an individual to get some information about their visit to a specific spot and furthermore not every person remembers everything. Then again, Computers are acceptable at recalling things, and with Machine figuring out how to its pinnacle, it high time innovation will by our own direction and help us by and by dependent on our preferences. So individuals would think often about this venture as their own help and achievement rate could unquestionably increment with time."
   ]
  },
  {
   "cell_type": "code",
   "execution_count": null,
   "metadata": {},
   "outputs": [],
   "source": []
  }
 ],
 "metadata": {
  "kernelspec": {
   "display_name": "Python",
   "language": "python",
   "name": "conda-env-python-py"
  },
  "language_info": {
   "codemirror_mode": {
    "name": "ipython",
    "version": 3
   },
   "file_extension": ".py",
   "mimetype": "text/x-python",
   "name": "python",
   "nbconvert_exporter": "python",
   "pygments_lexer": "ipython3",
   "version": "3.6.13"
  },
  "widgets": {
   "application/vnd.jupyter.widget-state+json": {
    "state": {},
    "version_major": 2,
    "version_minor": 0
   }
  }
 },
 "nbformat": 4,
 "nbformat_minor": 4
}
