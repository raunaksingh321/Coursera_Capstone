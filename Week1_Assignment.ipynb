{
 "cells": [
  {
   "cell_type": "markdown",
   "id": "df9d4504-0a4f-4e30-9a03-9541225dbc0c",
   "metadata": {},
   "source": [
    "# Coursera Capstone Project\n",
    "\n",
    "## Week1\n",
    "This Notebook for Capstone project work__\n",
    "#### Week 1 - Assignment Details\n",
    "\n",
    "> This notebook will be mainly used for the capstone project for Week1"
   ]
  },
  {
   "cell_type": "code",
   "execution_count": 8,
   "id": "7d60cd2b-cc99-45fb-b540-ba7cbfd6cca4",
   "metadata": {},
   "outputs": [],
   "source": [
    "import pandas as pd\n",
    "import numpy as np"
   ]
  },
  {
   "cell_type": "code",
   "execution_count": 9,
   "id": "28746866-1690-4f62-a166-ac8b8a5ce164",
   "metadata": {},
   "outputs": [
    {
     "name": "stdout",
     "output_type": "stream",
     "text": [
      "Hello Capstone Project Course!\n"
     ]
    }
   ],
   "source": [
    "print(\"Hello Capstone Project Course!\")"
   ]
  },
  {
   "cell_type": "code",
   "execution_count": null,
   "id": "cf4b4a3e-9375-4f9d-bf7a-0737c284b23f",
   "metadata": {},
   "outputs": [],
   "source": []
  }
 ],
 "metadata": {
  "kernelspec": {
   "display_name": "Python",
   "language": "python",
   "name": "conda-env-python-py"
  },
  "language_info": {
   "codemirror_mode": {
    "name": "ipython",
    "version": 3
   },
   "file_extension": ".py",
   "mimetype": "text/x-python",
   "name": "python",
   "nbconvert_exporter": "python",
   "pygments_lexer": "ipython3",
   "version": "3.6.13"
  }
 },
 "nbformat": 4,
 "nbformat_minor": 5
}
